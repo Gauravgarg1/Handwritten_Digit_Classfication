{
  "nbformat": 4,
  "nbformat_minor": 0,
  "metadata": {
    "colab": {
      "name": "Handwritten Digit recognition using LSTM.ipynb",
      "provenance": []
    },
    "kernelspec": {
      "name": "python3",
      "display_name": "Python 3"
    },
    "language_info": {
      "name": "python"
    },
    "accelerator": "GPU"
  },
  "cells": [
    {
      "cell_type": "markdown",
      "metadata": {
        "id": "tnjd8wjYt9dG"
      },
      "source": [
        "# Name: Gaurav Garg\n",
        "Reg No.: **RA1811026010060**"
      ]
    },
    {
      "cell_type": "markdown",
      "metadata": {
        "id": "oX5Rh_Up0wc8"
      },
      "source": [
        "# Import Libraries"
      ]
    },
    {
      "cell_type": "code",
      "metadata": {
        "id": "OQbj2zlQt4sH"
      },
      "source": [
        "import tensorflow as tf\n",
        "from tensorflow.keras.models import Sequential\n",
        "from tensorflow.keras.layers import Dense, Dropout\n",
        "from tensorflow.compat.v1.keras.layers import CuDNNLSTM\n",
        "import matplotlib.pyplot as plt"
      ],
      "execution_count": 1,
      "outputs": []
    },
    {
      "cell_type": "markdown",
      "metadata": {
        "id": "vVKfgGgL0zGX"
      },
      "source": [
        "# Import Dataset"
      ]
    },
    {
      "cell_type": "markdown",
      "metadata": {
        "id": "Htmq0KJW01-W"
      },
      "source": [
        "**Note**\n",
        "> * We divide the test and train dataset by 255 to normalize the data.\n",
        "* As the pixel values range from 0 to 256, apart from 0 the range is 255. So dividing all the values by 255 will convert it to range from 0 to 1."
      ]
    },
    {
      "cell_type": "code",
      "metadata": {
        "colab": {
          "base_uri": "https://localhost:8080/",
          "height": 0
        },
        "id": "xlCgP1QluJbE",
        "outputId": "d6206407-024f-496a-b78f-d2293ecd600e"
      },
      "source": [
        "mnist= tf.keras.datasets.mnist\n",
        "(x_train,y_train),(x_test,y_test)=mnist.load_data()\n",
        "x_train=x_train/255.0\n",
        "x_test=x_test/255.0\n",
        "model= Sequential()"
      ],
      "execution_count": 2,
      "outputs": [
        {
          "output_type": "stream",
          "text": [
            "Downloading data from https://storage.googleapis.com/tensorflow/tf-keras-datasets/mnist.npz\n",
            "11493376/11490434 [==============================] - 0s 0us/step\n"
          ],
          "name": "stdout"
        }
      ]
    },
    {
      "cell_type": "code",
      "metadata": {
        "colab": {
          "base_uri": "https://localhost:8080/",
          "height": 0
        },
        "id": "XgNZ3VwFuvqL",
        "outputId": "6d5c6493-f2c9-4c96-cbd9-8650e5554d2c"
      },
      "source": [
        "print(x_train.shape)"
      ],
      "execution_count": 3,
      "outputs": [
        {
          "output_type": "stream",
          "text": [
            "(60000, 28, 28)\n"
          ],
          "name": "stdout"
        }
      ]
    },
    {
      "cell_type": "markdown",
      "metadata": {
        "id": "5HF-VZRe1JEd"
      },
      "source": [
        "# Build Model"
      ]
    },
    {
      "cell_type": "code",
      "metadata": {
        "id": "-i5oyxIYuyEv"
      },
      "source": [
        "model.add(CuDNNLSTM(128,input_shape=(x_train.shape[1:]),return_sequences=True))\n",
        "model.add(Dropout(0.2))\n",
        "\n",
        "model.add(CuDNNLSTM(128))\n",
        "model.add(Dropout(0.2))\n",
        "\n",
        "model.add(Dense(32,activation='relu'))\n",
        "model.add(Dropout(0.2))\n",
        "\n",
        "model.add(Dense(10,activation='softmax'))"
      ],
      "execution_count": 4,
      "outputs": []
    },
    {
      "cell_type": "markdown",
      "metadata": {
        "id": "7dvS00Xe1Ur8"
      },
      "source": [
        "**Note**\n",
        "> * We use Adam Optimizer and use spare categorical crossentropy as our Loss.\n",
        "* We use Accuracy as out metrics"
      ]
    },
    {
      "cell_type": "code",
      "metadata": {
        "colab": {
          "base_uri": "https://localhost:8080/",
          "height": 0
        },
        "id": "X-ZTTdU2uzxi",
        "outputId": "0695df88-49f2-449f-dc14-7c6ee1e05e98"
      },
      "source": [
        "opt=tf.keras.optimizers.Adam(lr=1e-3,decay=1e-5)\n",
        "model.compile(loss='sparse_categorical_crossentropy',\n",
        "             optimizer=opt,\n",
        "             metrics=['accuracy'])\n",
        "model.fit(x_train,y_train,epochs=3,validation_data=(x_test,y_test))"
      ],
      "execution_count": 5,
      "outputs": [
        {
          "output_type": "stream",
          "text": [
            "Epoch 1/3\n",
            "1875/1875 [==============================] - 45s 7ms/step - loss: 0.7715 - accuracy: 0.7428 - val_loss: 0.1469 - val_accuracy: 0.9567\n",
            "Epoch 2/3\n",
            "1875/1875 [==============================] - 12s 6ms/step - loss: 0.1347 - accuracy: 0.9648 - val_loss: 0.0672 - val_accuracy: 0.9810\n",
            "Epoch 3/3\n",
            "1875/1875 [==============================] - 12s 6ms/step - loss: 0.0909 - accuracy: 0.9768 - val_loss: 0.0658 - val_accuracy: 0.9817\n"
          ],
          "name": "stdout"
        },
        {
          "output_type": "execute_result",
          "data": {
            "text/plain": [
              "<tensorflow.python.keras.callbacks.History at 0x7f3b50344810>"
            ]
          },
          "metadata": {
            "tags": []
          },
          "execution_count": 5
        }
      ]
    },
    {
      "cell_type": "markdown",
      "metadata": {
        "id": "1UwCz_qe1nit"
      },
      "source": [
        "**Note**\n",
        "> * After training we get a validation accuracy of 98.17%"
      ]
    },
    {
      "cell_type": "code",
      "metadata": {
        "colab": {
          "base_uri": "https://localhost:8080/",
          "height": 282
        },
        "id": "3yjJv3BHu2m7",
        "outputId": "b15bb1b7-c4ca-4b36-ec78-564a0ed0c7d1"
      },
      "source": [
        "image_index = 4433\n",
        "plt.imshow(x_test[image_index].reshape(28, 28),cmap='Greys')\n",
        "pred = model.predict(x_test[image_index].reshape(1,28,28))\n",
        "print(pred.argmax())"
      ],
      "execution_count": 8,
      "outputs": [
        {
          "output_type": "stream",
          "text": [
            "7\n"
          ],
          "name": "stdout"
        },
        {
          "output_type": "display_data",
          "data": {
            "image/png": "[encoded data removed]",
            "text/plain": [
              "<Figure size 432x288 with 1 Axes>"
            ]
          },
          "metadata": {
            "tags": [],
            "needs_background": "light"
          }
        }
      ]
    }
  ]
}